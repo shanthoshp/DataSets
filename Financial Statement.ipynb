{
 "cells": [
  {
   "cell_type": "code",
   "execution_count": 2,
   "metadata": {},
   "outputs": [],
   "source": [
    "#Data Set\n",
    "revenue = [14574.49, 7606.46, 8611.41, 9175.41, 8058.65, 8105.44, 11496.28, 9766.09, 10305.32, 14379.96, 10713.97, 15433.50]\n",
    "expenses = [12051.82, 5695.07, 12319.20, 12089.72, 8658.57, 840.20, 3285.73, 5821.12, 6976.93, 16618.61, 10054.37, 3803.96]"
   ]
  },
  {
   "cell_type": "code",
   "execution_count": 3,
   "metadata": {},
   "outputs": [],
   "source": [
    "#Global Variables\n",
    "numOfMonths = len(revenue)\n",
    "months = ['Jan','Feb','Mar','Apr','May','Jun','Jul','Aug','Sep','Oct','Nov','Dec']"
   ]
  },
  {
   "cell_type": "code",
   "execution_count": 4,
   "metadata": {},
   "outputs": [
    {
     "name": "stdout",
     "output_type": "stream",
     "text": [
      "[2522, 1911, -3707, -2914, -599, 7265, 8210, 3944, 3328, -2238, 659, 11629]\n"
     ]
    }
   ],
   "source": [
    "#Profits in $\n",
    "profits = []\n",
    "\n",
    "for i in range(numOfMonths):\n",
    "    profits.append(revenue[i] - expenses[i])\n",
    "\n",
    "\n",
    "profits=[int(round((i),2)) for i in profits]\n",
    "print(profits)\n",
    "    \n"
   ]
  },
  {
   "cell_type": "code",
   "execution_count": 5,
   "metadata": {},
   "outputs": [
    {
     "name": "stdout",
     "output_type": "stream",
     "text": [
      "[1765, 1337, -2594, -2039, -419, 5085, 5747, 2760, 2329, -1566, 461, 8140]\n"
     ]
    }
   ],
   "source": [
    "#Profits after tax in $\n",
    "tax = 0.70\n",
    "taxProfits = []\n",
    "\n",
    "for i in range(numOfMonths):\n",
    "    taxProfits.append(profits[i] * tax)\n",
    "\n",
    "taxProfits=[int(round((i),2)) for i in taxProfits]\n",
    "print(taxProfits)\n"
   ]
  },
  {
   "cell_type": "code",
   "execution_count": 6,
   "metadata": {},
   "outputs": [
    {
     "name": "stdout",
     "output_type": "stream",
     "text": [
      "[12.11, 17.58, -30.12, -22.22, -5.2, 62.74, 49.99, 28.26, 22.6, -10.89, 4.3, 52.74]\n"
     ]
    }
   ],
   "source": [
    "#Profit Margin in %\n",
    "posMargin = []\n",
    "\n",
    "for i in range(numOfMonths):\n",
    "    posMargin.append(round(taxProfits[i] / revenue[i] * 100, 2))\n",
    "\n",
    "\n",
    "print(posMargin)"
   ]
  },
  {
   "cell_type": "code",
   "execution_count": 7,
   "metadata": {},
   "outputs": [
    {
     "name": "stdout",
     "output_type": "stream",
     "text": [
      "1750.5\n"
     ]
    }
   ],
   "source": [
    "#Mean\n",
    "mean = 0\n",
    "for i in range(numOfMonths):\n",
    "    mean += taxProfits[i]\n",
    "\n",
    "mean = mean / numOfMonths\n",
    "print(mean)"
   ]
  },
  {
   "cell_type": "code",
   "execution_count": 8,
   "metadata": {},
   "outputs": [
    {
     "name": "stdout",
     "output_type": "stream",
     "text": [
      "['Jan', 'Jun', 'Jul', 'Aug', 'Sep', 'Dec']\n",
      "['Feb', 'Mar', 'Apr', 'May', 'Oct', 'Nov']\n"
     ]
    }
   ],
   "source": [
    "#Good/Bad Months\n",
    "goodMonths = []\n",
    "badMonths = []\n",
    "\n",
    "for i in range(numOfMonths):\n",
    "    if (taxProfits[i] > mean):\n",
    "        goodMonths.append(months[i])\n",
    "    else:\n",
    "        badMonths.append(months[i])\n",
    "\n",
    "print(goodMonths)\n",
    "print(badMonths)\n"
   ]
  },
  {
   "cell_type": "code",
   "execution_count": 9,
   "metadata": {},
   "outputs": [
    {
     "name": "stdout",
     "output_type": "stream",
     "text": [
      "Dec\n"
     ]
    }
   ],
   "source": [
    "#Best Month\n",
    "positive = []\n",
    "bestDay = ''\n",
    "\n",
    "for i in range(numOfMonths):\n",
    "    if (taxProfits[i] > mean):\n",
    "        positive.append(taxProfits[i])\n",
    "\n",
    "max = positive[0]\n",
    "    \n",
    "for i in range(len(positive)):\n",
    "    if (positive[i] > max):\n",
    "        max = positive[i]\n",
    "        index = taxProfits.index(max)\n",
    "          \n",
    "bestDay = months[index]\n",
    "print(bestDay)\n",
    "\n"
   ]
  },
  {
   "cell_type": "code",
   "execution_count": 10,
   "metadata": {},
   "outputs": [
    {
     "name": "stdout",
     "output_type": "stream",
     "text": [
      "Mar\n"
     ]
    }
   ],
   "source": [
    "#Worst Month\n",
    "negative = []\n",
    "worstDay = ''\n",
    "\n",
    "for i in range(numOfMonths):\n",
    "    if (taxProfits[i] < mean):\n",
    "        negative.append(taxProfits[i])\n",
    "\n",
    "min = negative[0]\n",
    "        \n",
    "for i in range(len(negative)):\n",
    "    if (negative[i] < min):\n",
    "        min = negative[i]\n",
    "        index = taxProfits.index(min)\n",
    "          \n",
    "worstDay = months[index]\n",
    "print(worstDay)"
   ]
  }
 ],
 "metadata": {
  "kernelspec": {
   "display_name": "Python 3",
   "language": "python",
   "name": "python3"
  },
  "language_info": {
   "codemirror_mode": {
    "name": "ipython",
    "version": 3
   },
   "file_extension": ".py",
   "mimetype": "text/x-python",
   "name": "python",
   "nbconvert_exporter": "python",
   "pygments_lexer": "ipython3",
   "version": "3.7.0"
  }
 },
 "nbformat": 4,
 "nbformat_minor": 2
}
